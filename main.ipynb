{
 "cells": [
  {
   "cell_type": "code",
   "execution_count": 1,
   "id": "f1569908-572c-4f97-92ad-44518c695880",
   "metadata": {},
   "outputs": [],
   "source": [
    "from can import CAN_Nodes, CAN_Link\n",
    "from gateway_queue import Gateway\n",
    "from random import randint"
   ]
  },
  {
   "cell_type": "code",
   "execution_count": 2,
   "id": "b6fa70f8-531e-496f-a69d-296276ce7013",
   "metadata": {},
   "outputs": [],
   "source": [
    "# System Configurations\n",
    "n_node = int(20 / 4) # the number of CAN nodes\n",
    "n_frame = 10 # the number of CAN frames to collect\n",
    "link_datarate = 125e3 # CAN link speed (bps)"
   ]
  },
  {
   "cell_type": "code",
   "execution_count": 3,
   "id": "c6d9744a-2a68-4bc9-bb9d-44d2a2736218",
   "metadata": {},
   "outputs": [],
   "source": [
    "nodes = []\n",
    "results = []\n",
    "for i in range(n_node):\n",
    "    nodes.append(CAN_Nodes(10000, 64, randint(1, 9)*1e3))\n",
    "    nodes.append(CAN_Nodes(20000, 64, randint(1, 9)*1e3))\n",
    "    nodes.append(CAN_Nodes(30000, 64, randint(1, 9)*1e3))\n",
    "    nodes.append(CAN_Nodes(40000, 64, randint(1, 9)*1e3))"
   ]
  },
  {
   "cell_type": "code",
   "execution_count": 4,
   "id": "31a65c24-28b8-4ce6-8f89-0592f54f0d98",
   "metadata": {},
   "outputs": [],
   "source": [
    "g = Gateway(n_frame)\n",
    "link = CAN_Link(link_datarate)"
   ]
  },
  {
   "cell_type": "code",
   "execution_count": 5,
   "id": "ab657e70-2eb6-41e9-9d84-be599c67ee48",
   "metadata": {},
   "outputs": [],
   "source": [
    "for t in range(0, int(1e6)):\n",
    "    for n in nodes:\n",
    "        if n.startpoint == t % n.period:\n",
    "            link.enqueue(n)\n",
    "    # if len(link.q) != 0 and t % 1000 == 0:\n",
    "    #     print(len(g.q))\n",
    "    link.updateLink(g, t)\n",
    "    \n",
    "    tmp = g.updateGateway(t)\n",
    "    if tmp != None:\n",
    "        results.append(tmp)"
   ]
  },
  {
   "cell_type": "code",
   "execution_count": 6,
   "id": "19ea0cf8-8538-4831-8397-c252e18538bf",
   "metadata": {},
   "outputs": [],
   "source": [
    "# results"
   ]
  },
  {
   "cell_type": "code",
   "execution_count": 7,
   "id": "b050d2aa-c8f7-4493-afd3-68b7c540881c",
   "metadata": {},
   "outputs": [
    {
     "data": {
      "text/plain": [
       "104"
      ]
     },
     "execution_count": 7,
     "metadata": {},
     "output_type": "execute_result"
    }
   ],
   "source": [
    "len(results)"
   ]
  },
  {
   "cell_type": "code",
   "execution_count": 8,
   "id": "6afc7fd8-e949-4de7-bf0c-a9d7a7eecf0f",
   "metadata": {},
   "outputs": [],
   "source": [
    "s = 0\n",
    "for i in range(len(results)):\n",
    "    for j in range(len(results[0])):\n",
    "        s += results[i][j]\n",
    "\n",
    "average = s / len(results) / len(results[0])"
   ]
  },
  {
   "cell_type": "code",
   "execution_count": 9,
   "id": "1ed2322a-d080-4867-b9b2-7927b0414ad9",
   "metadata": {},
   "outputs": [
    {
     "data": {
      "text/plain": [
       "4154.83076923077"
      ]
     },
     "execution_count": 9,
     "metadata": {},
     "output_type": "execute_result"
    }
   ],
   "source": [
    "average"
   ]
  },
  {
   "cell_type": "code",
   "execution_count": 10,
   "id": "9930697f-d747-460d-a487-523d2704f1f6",
   "metadata": {},
   "outputs": [
    {
     "data": {
      "text/plain": [
       "187.5"
      ]
     },
     "execution_count": 10,
     "metadata": {},
     "output_type": "execute_result"
    }
   ],
   "source": [
    "1500/8"
   ]
  },
  {
   "cell_type": "code",
   "execution_count": null,
   "id": "3f0f29d1-7668-4934-b395-be38a03e56b1",
   "metadata": {},
   "outputs": [],
   "source": []
  }
 ],
 "metadata": {
  "kernelspec": {
   "display_name": "Python 3 (ipykernel)",
   "language": "python",
   "name": "python3"
  },
  "language_info": {
   "codemirror_mode": {
    "name": "ipython",
    "version": 3
   },
   "file_extension": ".py",
   "mimetype": "text/x-python",
   "name": "python",
   "nbconvert_exporter": "python",
   "pygments_lexer": "ipython3",
   "version": "3.11.7"
  }
 },
 "nbformat": 4,
 "nbformat_minor": 5
}
